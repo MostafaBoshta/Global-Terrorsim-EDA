{
 "cells": [
  {
   "cell_type": "code",
   "execution_count": 2,
   "metadata": {},
   "outputs": [],
   "source": [
    "from libraries import pd ,np, px,sns,plt\n",
    "import lodingdata as ld"
   ]
  },
  {
   "cell_type": "code",
   "execution_count": 3,
   "metadata": {},
   "outputs": [
    {
     "data": {
      "text/html": [
       "<div>\n",
       "<style scoped>\n",
       "    .dataframe tbody tr th:only-of-type {\n",
       "        vertical-align: middle;\n",
       "    }\n",
       "\n",
       "    .dataframe tbody tr th {\n",
       "        vertical-align: top;\n",
       "    }\n",
       "\n",
       "    .dataframe thead th {\n",
       "        text-align: right;\n",
       "    }\n",
       "</style>\n",
       "<table border=\"1\" class=\"dataframe\">\n",
       "  <thead>\n",
       "    <tr style=\"text-align: right;\">\n",
       "      <th></th>\n",
       "      <th>iyear</th>\n",
       "      <th>imonth</th>\n",
       "      <th>iday</th>\n",
       "      <th>extended</th>\n",
       "      <th>country_txt</th>\n",
       "      <th>region_txt</th>\n",
       "      <th>city</th>\n",
       "      <th>latitude</th>\n",
       "      <th>longitude</th>\n",
       "      <th>doubtterr</th>\n",
       "      <th>...</th>\n",
       "      <th>targtype1_txt</th>\n",
       "      <th>target1</th>\n",
       "      <th>natlty1_txt</th>\n",
       "      <th>gname</th>\n",
       "      <th>individual</th>\n",
       "      <th>weaptype1_txt</th>\n",
       "      <th>nkill</th>\n",
       "      <th>nwound</th>\n",
       "      <th>property</th>\n",
       "      <th>dbsource</th>\n",
       "    </tr>\n",
       "  </thead>\n",
       "  <tbody>\n",
       "    <tr>\n",
       "      <th>0</th>\n",
       "      <td>1970</td>\n",
       "      <td>7</td>\n",
       "      <td>2</td>\n",
       "      <td>No</td>\n",
       "      <td>Dominican Republic</td>\n",
       "      <td>Central America &amp; Caribbean</td>\n",
       "      <td>Santo Domingo</td>\n",
       "      <td>18.456792</td>\n",
       "      <td>-69.951164</td>\n",
       "      <td>No</td>\n",
       "      <td>...</td>\n",
       "      <td>Private Citizens &amp; Property</td>\n",
       "      <td>Julio Guzman</td>\n",
       "      <td>Dominican Republic</td>\n",
       "      <td>MANO-D</td>\n",
       "      <td>No</td>\n",
       "      <td>Unknown</td>\n",
       "      <td>1</td>\n",
       "      <td>0</td>\n",
       "      <td>No</td>\n",
       "      <td>PGIS</td>\n",
       "    </tr>\n",
       "    <tr>\n",
       "      <th>1</th>\n",
       "      <td>1970</td>\n",
       "      <td>0</td>\n",
       "      <td>0</td>\n",
       "      <td>No</td>\n",
       "      <td>Mexico</td>\n",
       "      <td>North America</td>\n",
       "      <td>Mexico city</td>\n",
       "      <td>19.371887</td>\n",
       "      <td>-99.086624</td>\n",
       "      <td>No</td>\n",
       "      <td>...</td>\n",
       "      <td>Government (Diplomatic)</td>\n",
       "      <td>Nadine Chaval, daughter</td>\n",
       "      <td>Belgium</td>\n",
       "      <td>23rd of September Communist League</td>\n",
       "      <td>No</td>\n",
       "      <td>Unknown</td>\n",
       "      <td>0</td>\n",
       "      <td>0</td>\n",
       "      <td>No</td>\n",
       "      <td>PGIS</td>\n",
       "    </tr>\n",
       "    <tr>\n",
       "      <th>2</th>\n",
       "      <td>1970</td>\n",
       "      <td>1</td>\n",
       "      <td>0</td>\n",
       "      <td>No</td>\n",
       "      <td>Philippines</td>\n",
       "      <td>Southeast Asia</td>\n",
       "      <td>Tarlac City</td>\n",
       "      <td>15.478598</td>\n",
       "      <td>120.599741</td>\n",
       "      <td>No</td>\n",
       "      <td>...</td>\n",
       "      <td>Journalists &amp; Media</td>\n",
       "      <td>Employee</td>\n",
       "      <td>United States</td>\n",
       "      <td>Unknown</td>\n",
       "      <td>No</td>\n",
       "      <td>Unknown</td>\n",
       "      <td>1</td>\n",
       "      <td>0</td>\n",
       "      <td>No</td>\n",
       "      <td>PGIS</td>\n",
       "    </tr>\n",
       "    <tr>\n",
       "      <th>3</th>\n",
       "      <td>1970</td>\n",
       "      <td>1</td>\n",
       "      <td>0</td>\n",
       "      <td>No</td>\n",
       "      <td>Greece</td>\n",
       "      <td>Western Europe</td>\n",
       "      <td>Athens</td>\n",
       "      <td>37.997490</td>\n",
       "      <td>23.762728</td>\n",
       "      <td>No</td>\n",
       "      <td>...</td>\n",
       "      <td>Government (Diplomatic)</td>\n",
       "      <td>U.S. Embassy</td>\n",
       "      <td>United States</td>\n",
       "      <td>Unknown</td>\n",
       "      <td>No</td>\n",
       "      <td>Explosives</td>\n",
       "      <td>1</td>\n",
       "      <td>0</td>\n",
       "      <td>Yes</td>\n",
       "      <td>PGIS</td>\n",
       "    </tr>\n",
       "    <tr>\n",
       "      <th>4</th>\n",
       "      <td>1970</td>\n",
       "      <td>1</td>\n",
       "      <td>0</td>\n",
       "      <td>No</td>\n",
       "      <td>Japan</td>\n",
       "      <td>East Asia</td>\n",
       "      <td>Fukouka</td>\n",
       "      <td>33.580412</td>\n",
       "      <td>130.396361</td>\n",
       "      <td>Unknown</td>\n",
       "      <td>...</td>\n",
       "      <td>Government (Diplomatic)</td>\n",
       "      <td>U.S. Consulate</td>\n",
       "      <td>United States</td>\n",
       "      <td>Unknown</td>\n",
       "      <td>No</td>\n",
       "      <td>Incendiary</td>\n",
       "      <td>1</td>\n",
       "      <td>0</td>\n",
       "      <td>Yes</td>\n",
       "      <td>PGIS</td>\n",
       "    </tr>\n",
       "  </tbody>\n",
       "</table>\n",
       "<p>5 rows × 23 columns</p>\n",
       "</div>"
      ],
      "text/plain": [
       "   iyear  imonth  iday extended         country_txt  \\\n",
       "0   1970       7     2       No  Dominican Republic   \n",
       "1   1970       0     0       No              Mexico   \n",
       "2   1970       1     0       No         Philippines   \n",
       "3   1970       1     0       No              Greece   \n",
       "4   1970       1     0       No               Japan   \n",
       "\n",
       "                    region_txt           city   latitude   longitude  \\\n",
       "0  Central America & Caribbean  Santo Domingo  18.456792  -69.951164   \n",
       "1                North America    Mexico city  19.371887  -99.086624   \n",
       "2               Southeast Asia    Tarlac City  15.478598  120.599741   \n",
       "3               Western Europe         Athens  37.997490   23.762728   \n",
       "4                    East Asia        Fukouka  33.580412  130.396361   \n",
       "\n",
       "  doubtterr  ...                targtype1_txt                  target1  \\\n",
       "0        No  ...  Private Citizens & Property             Julio Guzman   \n",
       "1        No  ...      Government (Diplomatic)  Nadine Chaval, daughter   \n",
       "2        No  ...          Journalists & Media                 Employee   \n",
       "3        No  ...      Government (Diplomatic)             U.S. Embassy   \n",
       "4   Unknown  ...      Government (Diplomatic)           U.S. Consulate   \n",
       "\n",
       "          natlty1_txt                               gname individual  \\\n",
       "0  Dominican Republic                              MANO-D         No   \n",
       "1             Belgium  23rd of September Communist League         No   \n",
       "2       United States                             Unknown         No   \n",
       "3       United States                             Unknown         No   \n",
       "4       United States                             Unknown         No   \n",
       "\n",
       "  weaptype1_txt nkill nwound property  dbsource  \n",
       "0       Unknown     1      0       No      PGIS  \n",
       "1       Unknown     0      0       No      PGIS  \n",
       "2       Unknown     1      0       No      PGIS  \n",
       "3    Explosives     1      0      Yes      PGIS  \n",
       "4    Incendiary     1      0      Yes      PGIS  \n",
       "\n",
       "[5 rows x 23 columns]"
      ]
     },
     "execution_count": 3,
     "metadata": {},
     "output_type": "execute_result"
    }
   ],
   "source": [
    "path = r'F:\\pythonProject\\Data\\cleanedData.csv'\n",
    "data = ld.dataloader(path)\n",
    "data = data.pdloader()\n",
    "data.head()"
   ]
  },
  {
   "cell_type": "code",
   "execution_count": 4,
   "metadata": {},
   "outputs": [
    {
     "name": "stdout",
     "output_type": "stream",
     "text": [
      "<class 'pandas.core.frame.DataFrame'>\n",
      "RangeIndex: 167224 entries, 0 to 167223\n",
      "Data columns (total 23 columns):\n",
      " #   Column           Non-Null Count   Dtype  \n",
      "---  ------           --------------   -----  \n",
      " 0   iyear            167224 non-null  int64  \n",
      " 1   imonth           167224 non-null  int64  \n",
      " 2   iday             167224 non-null  int64  \n",
      " 3   extended         167224 non-null  object \n",
      " 4   country_txt      167224 non-null  object \n",
      " 5   region_txt       167224 non-null  object \n",
      " 6   city             167224 non-null  object \n",
      " 7   latitude         167224 non-null  float64\n",
      " 8   longitude        167224 non-null  float64\n",
      " 9   doubtterr        167224 non-null  object \n",
      " 10  success          167224 non-null  object \n",
      " 11  suicide          167224 non-null  object \n",
      " 12  attacktype1_txt  167224 non-null  object \n",
      " 13  targtype1_txt    167224 non-null  object \n",
      " 14  target1          167224 non-null  object \n",
      " 15  natlty1_txt      167224 non-null  object \n",
      " 16  gname            167224 non-null  object \n",
      " 17  individual       167224 non-null  object \n",
      " 18  weaptype1_txt    167224 non-null  object \n",
      " 19  nkill            167224 non-null  int64  \n",
      " 20  nwound           167224 non-null  int64  \n",
      " 21  property         167224 non-null  object \n",
      " 22  dbsource         167224 non-null  object \n",
      "dtypes: float64(2), int64(5), object(16)\n",
      "memory usage: 29.3+ MB\n"
     ]
    }
   ],
   "source": [
    "data.info()"
   ]
  },
  {
   "cell_type": "markdown",
   "metadata": {},
   "source": [
    "### Exploring Numerical Data"
   ]
  },
  {
   "cell_type": "code",
   "execution_count": 5,
   "metadata": {},
   "outputs": [
    {
     "name": "stdout",
     "output_type": "stream",
     "text": [
      "Index(['iyear', 'imonth', 'iday', 'latitude', 'longitude', 'nkill', 'nwound'], dtype='object')\n"
     ]
    }
   ],
   "source": [
    "numeric = data.select_dtypes(include=['number'])\n",
    "print(numeric.columns)"
   ]
  },
  {
   "cell_type": "code",
   "execution_count": 6,
   "metadata": {},
   "outputs": [
    {
     "name": "stdout",
     "output_type": "stream",
     "text": [
      "iyear : 2003.2454611778214, 2009.0 ,13.147890553061186\n",
      "imonth : 6.470488685834569, 6.0 ,3.3909572220949484\n",
      "iday : 15.536268717408984, 15.0 ,8.810238695887628\n",
      "latitude : 23.751395305111707, 31.517771 ,18.326330957673566\n",
      "longitude : -486.0120382312943, 43.500981499999995 ,210758.8220531365\n",
      "nkill : 2.3881978663349757, 1.0 ,11.46143288528275\n",
      "nwound : 3.053556905707315, 0.0 ,35.721151770058526\n"
     ]
    }
   ],
   "source": [
    "for col in numeric.columns:\n",
    "    print(f'{col} : {np.mean(numeric[col])}, {np.median(numeric[col])} ,{np.std(numeric[col])}')"
   ]
  },
  {
   "cell_type": "markdown",
   "metadata": {},
   "source": [
    "### Exploring Categorical Data"
   ]
  },
  {
   "cell_type": "code",
   "execution_count": 7,
   "metadata": {},
   "outputs": [
    {
     "name": "stdout",
     "output_type": "stream",
     "text": [
      "Index(['extended', 'country_txt', 'region_txt', 'city', 'doubtterr', 'success',\n",
      "       'suicide', 'attacktype1_txt', 'targtype1_txt', 'target1', 'natlty1_txt',\n",
      "       'gname', 'individual', 'weaptype1_txt', 'property', 'dbsource'],\n",
      "      dtype='object')\n"
     ]
    }
   ],
   "source": [
    "categorical = data.select_dtypes(include=['object'])\n",
    "print(categorical.columns)"
   ]
  },
  {
   "cell_type": "code",
   "execution_count": 8,
   "metadata": {},
   "outputs": [
    {
     "name": "stdout",
     "output_type": "stream",
     "text": [
      "extended : No\n",
      "country_txt : Iraq\n",
      "region_txt : Middle East & North Africa\n",
      "city : Baghdad\n",
      "doubtterr : No\n",
      "success : Yes\n",
      "suicide : No\n",
      "attacktype1_txt : Bombing/Explosion\n",
      "targtype1_txt : Private Citizens & Property\n",
      "target1 : Civilians\n",
      "natlty1_txt : Iraq\n",
      "gname : Unknown\n",
      "individual : No\n",
      "weaptype1_txt : Explosives\n",
      "property : Yes\n",
      "dbsource : START Primary Collection\n"
     ]
    }
   ],
   "source": [
    "for col in categorical.columns:\n",
    "    print(f'{col} : {(categorical[col].mode()[0])}')"
   ]
  },
  {
   "cell_type": "markdown",
   "metadata": {},
   "source": [
    "### The Darkest Year with the most terrorist attacks"
   ]
  },
  {
   "cell_type": "code",
   "execution_count": 9,
   "metadata": {},
   "outputs": [
    {
     "name": "stdout",
     "output_type": "stream",
     "text": [
      "    iyear  AttacksNO\n",
      "43   2014      16144\n",
      "44   2015      14227\n",
      "45   2016      12685\n",
      "42   2013      11621\n",
      "46   2017      10480\n"
     ]
    }
   ],
   "source": [
    "darkest_year = data.groupby('iyear')['nkill'].count().reset_index(name='AttacksNO').sort_values(by='AttacksNO',ascending=False)\n",
    "print(darkest_year.head())"
   ]
  },
  {
   "cell_type": "markdown",
   "metadata": {},
   "source": [
    "### The least Years in Attacks"
   ]
  },
  {
   "cell_type": "code",
   "execution_count": 10,
   "metadata": {},
   "outputs": [
    {
     "name": "stdout",
     "output_type": "stream",
     "text": [
      "   iyear  AttacksNO\n",
      "1   1971        452\n",
      "3   1973        463\n",
      "2   1972        521\n",
      "4   1974        569\n",
      "0   1970        634\n"
     ]
    }
   ],
   "source": [
    "least_year = data.groupby('iyear')['nkill'].count().reset_index(name='AttacksNO').sort_values(by='AttacksNO')\n",
    "print(least_year.head())"
   ]
  },
  {
   "cell_type": "markdown",
   "metadata": {},
   "source": [
    "### TOP 5 targeted countries"
   ]
  },
  {
   "cell_type": "code",
   "execution_count": 11,
   "metadata": {},
   "outputs": [
    {
     "name": "stdout",
     "output_type": "stream",
     "text": [
      "     country_txt  AttacksNO\n",
      "83          Iraq      23001\n",
      "133     Pakistan      13680\n",
      "0    Afghanistan      12393\n",
      "79         India      11386\n",
      "34      Colombia       7098\n"
     ]
    }
   ],
   "source": [
    "countries = data.groupby('country_txt')['nkill'].count().reset_index(name='AttacksNO').sort_values(by='AttacksNO',ascending=False)\n",
    "print(countries.head())"
   ]
  },
  {
   "cell_type": "markdown",
   "metadata": {},
   "source": [
    "### Top 5 Unsafe cities"
   ]
  },
  {
   "cell_type": "code",
   "execution_count": 12,
   "metadata": {},
   "outputs": [
    {
     "name": "stdout",
     "output_type": "stream",
     "text": [
      "          city  AttacksNO  percentage\n",
      "3108   Baghdad       7452        4.46\n",
      "15822  Karachi       2178        1.30\n",
      "22407    Mosul       2069        1.24\n",
      "4580   Belfast       2015        1.20\n",
      "19249     Lima       1746        1.04\n"
     ]
    }
   ],
   "source": [
    "cities = data.groupby('city')['nkill'].count().reset_index(name='AttacksNO').sort_values(by='AttacksNO',ascending=False)\n",
    "cities['percentage'] = round(cities['AttacksNO']/cities['AttacksNO'].sum()*100 , 2)\n",
    "print(cities.head())"
   ]
  },
  {
   "cell_type": "markdown",
   "metadata": {},
   "source": [
    "### The Most used weapons in the attacks"
   ]
  },
  {
   "cell_type": "code",
   "execution_count": 13,
   "metadata": {},
   "outputs": [
    {
     "name": "stdout",
     "output_type": "stream",
     "text": [
      "   weaptype1_txt  AttacksNO  percentage\n",
      "2     Explosives      84643       50.62\n",
      "4       Firearms      55390       33.12\n",
      "10       Unknown      13684        8.18\n",
      "5     Incendiary       9328        5.58\n",
      "6          Melee       3442        2.06\n"
     ]
    }
   ],
   "source": [
    "weapons = data.groupby('weaptype1_txt')['nkill'].count().reset_index(name='AttacksNO').sort_values(by='AttacksNO',ascending=False)\n",
    "weapons['percentage'] = round((weapons['AttacksNO']/weapons['AttacksNO'].sum())*100,2)\n",
    "print(weapons.head())"
   ]
  },
  {
   "cell_type": "markdown",
   "metadata": {},
   "source": [
    "### The most powerfull weapons used in killing people in the attacks"
   ]
  },
  {
   "cell_type": "code",
   "execution_count": 14,
   "metadata": {},
   "outputs": [
    {
     "name": "stdout",
     "output_type": "stream",
     "text": [
      "   weaptype1_txt  Killed  percentage\n",
      "2     Explosives  173209       43.37\n",
      "4       Firearms  165076       41.33\n",
      "10       Unknown   41584       10.41\n",
      "6          Melee    9693        2.43\n",
      "5     Incendiary    5809        1.45\n"
     ]
    }
   ],
   "source": [
    "weapons = data.groupby('weaptype1_txt')['nkill'].sum().reset_index(name='Killed').sort_values(by='Killed',ascending=False)\n",
    "weapons['percentage'] = round((weapons['Killed']/weapons['Killed'].sum())*100,2)\n",
    "print(weapons.head())"
   ]
  },
  {
   "cell_type": "markdown",
   "metadata": {},
   "source": [
    "### The ratio of successful Attacks"
   ]
  },
  {
   "cell_type": "code",
   "execution_count": 15,
   "metadata": {},
   "outputs": [
    {
     "name": "stdout",
     "output_type": "stream",
     "text": [
      "Successful attacks: 88.79%\n"
     ]
    }
   ],
   "source": [
    "success = len(data[data['success'] == 'Yes']) / len(data) *100\n",
    "print(f'Successful attacks: {round(success,2)}%')"
   ]
  },
  {
   "cell_type": "markdown",
   "metadata": {},
   "source": [
    "### Number of Attacks in each country per year"
   ]
  },
  {
   "cell_type": "code",
   "execution_count": 16,
   "metadata": {},
   "outputs": [
    {
     "name": "stdout",
     "output_type": "stream",
     "text": [
      "      iyear country_txt  AttacksNO  percentage\n",
      "3336   2014        Iraq       3578        2.14\n",
      "3540   2016        Iraq       2788        1.67\n",
      "3244   2013        Iraq       2716        1.62\n",
      "3436   2015        Iraq       2628        1.57\n",
      "3642   2017        Iraq       2230        1.33\n"
     ]
    }
   ],
   "source": [
    "country_year = data.groupby(['iyear','country_txt'])['nkill'].count().reset_index(name='AttacksNO').sort_values(by='AttacksNO',ascending=False)\n",
    "country_year['percentage'] = round(country_year['AttacksNO'] / country_year['AttacksNO'].sum() * 100,2)\n",
    "print(country_year.head())"
   ]
  },
  {
   "cell_type": "markdown",
   "metadata": {},
   "source": [
    "### The most affected regions"
   ]
  },
  {
   "cell_type": "code",
   "execution_count": 17,
   "metadata": {},
   "outputs": [
    {
     "name": "stdout",
     "output_type": "stream",
     "text": [
      "                    region_txt  AttacksNO  percentage\n",
      "5   Middle East & North Africa      47284       28.28\n",
      "8                   South Asia      42882       25.64\n",
      "10          Sub-Saharan Africa      16451        9.84\n",
      "7                South America      15867        9.49\n",
      "11              Western Europe      15041        8.99\n"
     ]
    }
   ],
   "source": [
    "regions = data.groupby('region_txt')['nkill'].count().reset_index(name='AttacksNO').sort_values(by='AttacksNO',ascending=False)\n",
    "regions['percentage'] = round(regions['AttacksNO'] / regions['AttacksNO'].sum() * 100 , 2)\n",
    "print(regions.head())"
   ]
  },
  {
   "cell_type": "markdown",
   "metadata": {},
   "source": [
    "### The most target nationalities"
   ]
  },
  {
   "cell_type": "code",
   "execution_count": 18,
   "metadata": {},
   "outputs": [
    {
     "name": "stdout",
     "output_type": "stream",
     "text": [
      "     natlty1_txt  Killed  percentage\n",
      "86          Iraq   78484       19.65\n",
      "0    Afghanistan   35913        8.99\n",
      "141     Pakistan   22943        5.74\n",
      "135      Nigeria   22400        5.61\n",
      "82         India   19424        4.86\n"
     ]
    }
   ],
   "source": [
    "nationality = data.groupby('natlty1_txt')['nkill'].sum().reset_index(name='Killed').sort_values(by='Killed',ascending=False)\n",
    "nationality['percentage'] = round(nationality['Killed'] /nationality['Killed'].sum() * 100,2)\n",
    "print(nationality.head())"
   ]
  },
  {
   "cell_type": "markdown",
   "metadata": {},
   "source": [
    "### The Most target types to attack"
   ]
  },
  {
   "cell_type": "code",
   "execution_count": 19,
   "metadata": {},
   "outputs": [
    {
     "name": "stdout",
     "output_type": "stream",
     "text": [
      "                  targtype1_txt  Attacked  percentage\n",
      "13  Private Citizens & Property    135271       33.87\n",
      "9                      Military    100599       25.19\n",
      "12                       Police     52804       13.22\n",
      "6          Government (General)     25915        6.49\n",
      "2                      Business     23899        5.98\n"
     ]
    }
   ],
   "source": [
    "target = data.groupby('targtype1_txt')['nkill'].sum().reset_index(name='Attacked').sort_values(by='Attacked',ascending=False)\n",
    "target['percentage'] = round(target['Attacked'] / target['Attacked'].sum() * 100 , 2)\n",
    "print(target.head())"
   ]
  },
  {
   "cell_type": "markdown",
   "metadata": {},
   "source": [
    "### The Most dangerous group "
   ]
  },
  {
   "cell_type": "code",
   "execution_count": 21,
   "metadata": {},
   "outputs": [
    {
     "name": "stdout",
     "output_type": "stream",
     "text": [
      "                                            gname  killed  percentage\n",
      "3335                                      Unknown  111576       27.94\n",
      "1505  Islamic State of Iraq and the Levant (ISIL)   38667        9.68\n",
      "3073                                      Taliban   29398        7.36\n",
      "694                                    Boko Haram   20256        5.07\n",
      "1826      Liberation Tigers of Tamil Eelam (LTTE)   10591        2.65\n"
     ]
    }
   ],
   "source": [
    "group = data.groupby('gname')['nkill'].sum().reset_index(name='killed').sort_values(by='killed',ascending=False)\n",
    "group['percentage'] = round(group['killed'] / group['killed'].sum() * 100 , 2)\n",
    "print(group.head())"
   ]
  },
  {
   "cell_type": "code",
   "execution_count": null,
   "metadata": {},
   "outputs": [],
   "source": []
  }
 ],
 "metadata": {
  "kernelspec": {
   "display_name": "Python 3",
   "language": "python",
   "name": "python3"
  },
  "language_info": {
   "codemirror_mode": {
    "name": "ipython",
    "version": 3
   },
   "file_extension": ".py",
   "mimetype": "text/x-python",
   "name": "python",
   "nbconvert_exporter": "python",
   "pygments_lexer": "ipython3",
   "version": "3.12.3"
  }
 },
 "nbformat": 4,
 "nbformat_minor": 2
}
