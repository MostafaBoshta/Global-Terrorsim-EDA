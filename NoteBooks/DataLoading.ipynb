{
 "cells": [
  {
   "cell_type": "code",
   "execution_count": 4,
   "metadata": {},
   "outputs": [],
   "source": [
    "from libraries import pd , chardet ,time , os, psutil\n",
    "import lodingdata as ld\n",
    "pd.set_option('display.max_columns', None)\n",
    "import warnings\n",
    "warnings.filterwarnings('ignore')"
   ]
  },
  {
   "cell_type": "markdown",
   "metadata": {},
   "source": [
    "## Loading Data"
   ]
  },
  {
   "cell_type": "markdown",
   "metadata": {},
   "source": [
    "### Using Pandas vs Dask"
   ]
  },
  {
   "cell_type": "code",
   "execution_count": 5,
   "metadata": {},
   "outputs": [],
   "source": [
    "def get_memory_usage():\n",
    "    process = psutil.Process(os.getpid())\n",
    "    return process.memory_info().rss / 1024 / 1024"
   ]
  },
  {
   "cell_type": "code",
   "execution_count": 6,
   "metadata": {},
   "outputs": [
    {
     "name": "stdout",
     "output_type": "stream",
     "text": [
      "Time taken to load data using pandas : 4.97310209274292\n",
      "Memory usage of pandas : 632.0859375\n",
      "Time taken to load data using dask : 0.12043356895446777\n",
      "Memory usage of dask : 634.953125\n"
     ]
    }
   ],
   "source": [
    "path = r'F:\\pythonProject\\Data\\globalterrorismdb_0718dist.csv'\n",
    "data = ld.dataloader(path)\n",
    "start_time = time.time()\n",
    "pddata = data.pdloader()\n",
    "end_time = time.time()\n",
    "pandas_memory_uasge = get_memory_usage()\n",
    "print('Time taken to load data using pandas :',end_time-start_time)\n",
    "print('Memory usage of pandas :',pandas_memory_uasge)\n",
    "\n",
    "\n",
    "## Dask Loading\n",
    "start_time = time.time()\n",
    "daskdata = data.ddloader()\n",
    "end_time = time.time()\n",
    "dask_memory_uasge = get_memory_usage()\n",
    "print('Time taken to load data using dask :',end_time-start_time)\n",
    "print('Memory usage of dask :',dask_memory_uasge)"
   ]
  },
  {
   "cell_type": "markdown",
   "metadata": {},
   "source": [
    "#### Data Shape "
   ]
  },
  {
   "cell_type": "code",
   "execution_count": 7,
   "metadata": {},
   "outputs": [
    {
     "name": "stdout",
     "output_type": "stream",
     "text": [
      "the data has 181691 rows and 135 columns\n"
     ]
    }
   ],
   "source": [
    "print(f'the data has {pddata.shape[0]} rows and {pddata.shape[1]} columns')"
   ]
  },
  {
   "cell_type": "code",
   "execution_count": 8,
   "metadata": {},
   "outputs": [
    {
     "name": "stdout",
     "output_type": "stream",
     "text": [
      "<class 'pandas.core.frame.DataFrame'>\n",
      "RangeIndex: 181691 entries, 0 to 181690\n",
      "Data columns (total 135 columns):\n",
      " #    Column              Dtype  \n",
      "---   ------              -----  \n",
      " 0    eventid             int64  \n",
      " 1    iyear               int64  \n",
      " 2    imonth              int64  \n",
      " 3    iday                int64  \n",
      " 4    approxdate          object \n",
      " 5    extended            int64  \n",
      " 6    resolution          object \n",
      " 7    country             int64  \n",
      " 8    country_txt         object \n",
      " 9    region              int64  \n",
      " 10   region_txt          object \n",
      " 11   provstate           object \n",
      " 12   city                object \n",
      " 13   latitude            float64\n",
      " 14   longitude           float64\n",
      " 15   specificity         float64\n",
      " 16   vicinity            int64  \n",
      " 17   location            object \n",
      " 18   summary             object \n",
      " 19   crit1               int64  \n",
      " 20   crit2               int64  \n",
      " 21   crit3               int64  \n",
      " 22   doubtterr           float64\n",
      " 23   alternative         float64\n",
      " 24   alternative_txt     object \n",
      " 25   multiple            float64\n",
      " 26   success             int64  \n",
      " 27   suicide             int64  \n",
      " 28   attacktype1         int64  \n",
      " 29   attacktype1_txt     object \n",
      " 30   attacktype2         float64\n",
      " 31   attacktype2_txt     object \n",
      " 32   attacktype3         float64\n",
      " 33   attacktype3_txt     object \n",
      " 34   targtype1           int64  \n",
      " 35   targtype1_txt       object \n",
      " 36   targsubtype1        float64\n",
      " 37   targsubtype1_txt    object \n",
      " 38   corp1               object \n",
      " 39   target1             object \n",
      " 40   natlty1             float64\n",
      " 41   natlty1_txt         object \n",
      " 42   targtype2           float64\n",
      " 43   targtype2_txt       object \n",
      " 44   targsubtype2        float64\n",
      " 45   targsubtype2_txt    object \n",
      " 46   corp2               object \n",
      " 47   target2             object \n",
      " 48   natlty2             float64\n",
      " 49   natlty2_txt         object \n",
      " 50   targtype3           float64\n",
      " 51   targtype3_txt       object \n",
      " 52   targsubtype3        float64\n",
      " 53   targsubtype3_txt    object \n",
      " 54   corp3               object \n",
      " 55   target3             object \n",
      " 56   natlty3             float64\n",
      " 57   natlty3_txt         object \n",
      " 58   gname               object \n",
      " 59   gsubname            object \n",
      " 60   gname2              object \n",
      " 61   gsubname2           object \n",
      " 62   gname3              object \n",
      " 63   gsubname3           object \n",
      " 64   motive              object \n",
      " 65   guncertain1         float64\n",
      " 66   guncertain2         float64\n",
      " 67   guncertain3         float64\n",
      " 68   individual          int64  \n",
      " 69   nperps              float64\n",
      " 70   nperpcap            float64\n",
      " 71   claimed             float64\n",
      " 72   claimmode           float64\n",
      " 73   claimmode_txt       object \n",
      " 74   claim2              float64\n",
      " 75   claimmode2          float64\n",
      " 76   claimmode2_txt      object \n",
      " 77   claim3              float64\n",
      " 78   claimmode3          float64\n",
      " 79   claimmode3_txt      object \n",
      " 80   compclaim           float64\n",
      " 81   weaptype1           int64  \n",
      " 82   weaptype1_txt       object \n",
      " 83   weapsubtype1        float64\n",
      " 84   weapsubtype1_txt    object \n",
      " 85   weaptype2           float64\n",
      " 86   weaptype2_txt       object \n",
      " 87   weapsubtype2        float64\n",
      " 88   weapsubtype2_txt    object \n",
      " 89   weaptype3           float64\n",
      " 90   weaptype3_txt       object \n",
      " 91   weapsubtype3        float64\n",
      " 92   weapsubtype3_txt    object \n",
      " 93   weaptype4           float64\n",
      " 94   weaptype4_txt       object \n",
      " 95   weapsubtype4        float64\n",
      " 96   weapsubtype4_txt    object \n",
      " 97   weapdetail          object \n",
      " 98   nkill               float64\n",
      " 99   nkillus             float64\n",
      " 100  nkillter            float64\n",
      " 101  nwound              float64\n",
      " 102  nwoundus            float64\n",
      " 103  nwoundte            float64\n",
      " 104  property            int64  \n",
      " 105  propextent          float64\n",
      " 106  propextent_txt      object \n",
      " 107  propvalue           float64\n",
      " 108  propcomment         object \n",
      " 109  ishostkid           float64\n",
      " 110  nhostkid            float64\n",
      " 111  nhostkidus          float64\n",
      " 112  nhours              float64\n",
      " 113  ndays               float64\n",
      " 114  divert              object \n",
      " 115  kidhijcountry       object \n",
      " 116  ransom              float64\n",
      " 117  ransomamt           float64\n",
      " 118  ransomamtus         float64\n",
      " 119  ransompaid          float64\n",
      " 120  ransompaidus        float64\n",
      " 121  ransomnote          object \n",
      " 122  hostkidoutcome      float64\n",
      " 123  hostkidoutcome_txt  object \n",
      " 124  nreleased           float64\n",
      " 125  addnotes            object \n",
      " 126  scite1              object \n",
      " 127  scite2              object \n",
      " 128  scite3              object \n",
      " 129  dbsource            object \n",
      " 130  INT_LOG             int64  \n",
      " 131  INT_IDEO            int64  \n",
      " 132  INT_MISC            int64  \n",
      " 133  INT_ANY             int64  \n",
      " 134  related             object \n",
      "dtypes: float64(55), int64(22), object(58)\n",
      "memory usage: 187.1+ MB\n"
     ]
    }
   ],
   "source": [
    "pddata.info(verbose=True)"
   ]
  },
  {
   "cell_type": "markdown",
   "metadata": {},
   "source": [
    "####  Numeric Data"
   ]
  },
  {
   "cell_type": "code",
   "execution_count": 9,
   "metadata": {},
   "outputs": [
    {
     "name": "stdout",
     "output_type": "stream",
     "text": [
      "Index(['eventid', 'iyear', 'imonth', 'iday', 'extended', 'country', 'region',\n",
      "       'latitude', 'longitude', 'specificity', 'vicinity', 'crit1', 'crit2',\n",
      "       'crit3', 'doubtterr', 'alternative', 'multiple', 'success', 'suicide',\n",
      "       'attacktype1', 'attacktype2', 'attacktype3', 'targtype1',\n",
      "       'targsubtype1', 'natlty1', 'targtype2', 'targsubtype2', 'natlty2',\n",
      "       'targtype3', 'targsubtype3', 'natlty3', 'guncertain1', 'guncertain2',\n",
      "       'guncertain3', 'individual', 'nperps', 'nperpcap', 'claimed',\n",
      "       'claimmode', 'claim2', 'claimmode2', 'claim3', 'claimmode3',\n",
      "       'compclaim', 'weaptype1', 'weapsubtype1', 'weaptype2', 'weapsubtype2',\n",
      "       'weaptype3', 'weapsubtype3', 'weaptype4', 'weapsubtype4', 'nkill',\n",
      "       'nkillus', 'nkillter', 'nwound', 'nwoundus', 'nwoundte', 'property',\n",
      "       'propextent', 'propvalue', 'ishostkid', 'nhostkid', 'nhostkidus',\n",
      "       'nhours', 'ndays', 'ransom', 'ransomamt', 'ransomamtus', 'ransompaid',\n",
      "       'ransompaidus', 'hostkidoutcome', 'nreleased', 'INT_LOG', 'INT_IDEO',\n",
      "       'INT_MISC', 'INT_ANY'],\n",
      "      dtype='object')\n"
     ]
    }
   ],
   "source": [
    "numeric = pddata.select_dtypes(include='number')\n",
    "print(numeric.columns)"
   ]
  },
  {
   "cell_type": "markdown",
   "metadata": {},
   "source": [
    "#### Categorical Data"
   ]
  },
  {
   "cell_type": "code",
   "execution_count": 10,
   "metadata": {},
   "outputs": [
    {
     "name": "stdout",
     "output_type": "stream",
     "text": [
      "Index(['approxdate', 'resolution', 'country_txt', 'region_txt', 'provstate',\n",
      "       'city', 'location', 'summary', 'alternative_txt', 'attacktype1_txt',\n",
      "       'attacktype2_txt', 'attacktype3_txt', 'targtype1_txt',\n",
      "       'targsubtype1_txt', 'corp1', 'target1', 'natlty1_txt', 'targtype2_txt',\n",
      "       'targsubtype2_txt', 'corp2', 'target2', 'natlty2_txt', 'targtype3_txt',\n",
      "       'targsubtype3_txt', 'corp3', 'target3', 'natlty3_txt', 'gname',\n",
      "       'gsubname', 'gname2', 'gsubname2', 'gname3', 'gsubname3', 'motive',\n",
      "       'claimmode_txt', 'claimmode2_txt', 'claimmode3_txt', 'weaptype1_txt',\n",
      "       'weapsubtype1_txt', 'weaptype2_txt', 'weapsubtype2_txt',\n",
      "       'weaptype3_txt', 'weapsubtype3_txt', 'weaptype4_txt',\n",
      "       'weapsubtype4_txt', 'weapdetail', 'propextent_txt', 'propcomment',\n",
      "       'divert', 'kidhijcountry', 'ransomnote', 'hostkidoutcome_txt',\n",
      "       'addnotes', 'scite1', 'scite2', 'scite3', 'dbsource', 'related'],\n",
      "      dtype='object')\n"
     ]
    }
   ],
   "source": [
    "categorical = pddata.select_dtypes(include='object')\n",
    "print(categorical.columns)"
   ]
  },
  {
   "cell_type": "code",
   "execution_count": null,
   "metadata": {},
   "outputs": [],
   "source": []
  }
 ],
 "metadata": {
  "kernelspec": {
   "display_name": "Python 3",
   "language": "python",
   "name": "python3"
  },
  "language_info": {
   "codemirror_mode": {
    "name": "ipython",
    "version": 3
   },
   "file_extension": ".py",
   "mimetype": "text/x-python",
   "name": "python",
   "nbconvert_exporter": "python",
   "pygments_lexer": "ipython3",
   "version": "3.12.3"
  }
 },
 "nbformat": 4,
 "nbformat_minor": 2
}
